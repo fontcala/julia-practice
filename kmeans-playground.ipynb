{
 "cells": [
  {
   "cell_type": "code",
   "execution_count": 1,
   "metadata": {},
   "outputs": [
    {
     "data": {
      "text/plain": [
       "KMeans (generic function with 2 methods)"
      ]
     },
     "execution_count": 1,
     "metadata": {},
     "output_type": "execute_result"
    }
   ],
   "source": [
    "# KMeans (first assume data normalized)\n",
    "function KMeans(features::Array{T,2},N = 2) where{T <: AbstractFloat}\n",
    "    println(\"feature type is a $T\")\n",
    "    numPoints, numFeatures = size(features);\n",
    "    assignments = zeros(Int,numPoints);\n",
    "    centroids  = rand(numFeatures,N);\n",
    "    oldCentroids  = rand(numFeatures,N);\n",
    "    newAssignments = ones(T,numPoints);\n",
    "    currentDistances = zeros(numPoints,N);\n",
    "    cummulate = zeros(numFeatures,N);\n",
    "    cummulateNumel = zeros(numFeatures,N);\n",
    "    centroidMovement = 1;\n",
    "    # compute distances and assign point to centroid\n",
    "    for k = 1:20\n",
    "        for j = 1:N\n",
    "            currentDistances[:,j] = sum((features .- centroids[:,j]').^2, dims = 2);\n",
    "        end\n",
    "        # reassign\n",
    "        for i = 1:numPoints\n",
    "            vals, coords = findmin(currentDistances[i,:]);\n",
    "            assignments[i] = coords;\n",
    "            cummulate[:, coords] = cummulate[:, coords] + features[i,:];\n",
    "            cummulateNumel[:,coords] = cummulateNumel[:,coords] .+ 1;\n",
    "        end\n",
    "        # recompute centers\n",
    "        oldCentroids = centroids;\n",
    "        centroids = cummulate./cummulateNumel;\n",
    "        centroidMovement = sum((oldCentroids .- centroids).^2);\n",
    "        println(\"$oldCentroids\")\n",
    "    end\n",
    "    assignments\n",
    "end"
   ]
  },
  {
   "cell_type": "code",
   "execution_count": 2,
   "metadata": {},
   "outputs": [
    {
     "data": {
      "text/plain": [
       "6×3 Array{Float64,2}:\n",
       " 0.0  0.0  0.0\n",
       " 0.1  0.1  0.1\n",
       " 0.9  0.9  0.9\n",
       " 0.8  0.8  0.8\n",
       " 0.3  0.3  0.3\n",
       " 0.4  0.4  0.4"
      ]
     },
     "execution_count": 2,
     "metadata": {},
     "output_type": "execute_result"
    }
   ],
   "source": [
    "features = [0.0 0.0 0.0 ; 0.1 0.1 0.1 ; 0.9 0.9 0.9 ; 0.8 0.8 0.8 ; 0.3 0.3 0.3 ; 0.4 0.4 0.4 ]"
   ]
  },
  {
   "cell_type": "code",
   "execution_count": 3,
   "metadata": {},
   "outputs": [
    {
     "name": "stdout",
     "output_type": "stream",
     "text": [
      "feature type is a Float64\n",
      "[0.70167 0.0846374 0.489901; 0.332829 0.345669 0.0951115; 0.523949 0.35779 0.714255]\n",
      "[0.85 0.2 NaN; 0.85 0.2 NaN; 0.85 0.2 NaN]\n",
      "[0.85 0.2 0.416667; 0.85 0.2 0.416667; 0.85 0.2 0.416667]\n",
      "[0.85 0.171429 0.414286; 0.85 0.171429 0.414286; 0.85 0.171429 0.414286]\n",
      "[0.85 0.144444 0.4; 0.85 0.144444 0.4; 0.85 0.144444 0.4]\n",
      "[0.85 0.127273 0.390909; 0.85 0.127273 0.390909; 0.85 0.127273 0.390909]\n",
      "[0.85 0.115385 0.384615; 0.85 0.115385 0.384615; 0.85 0.115385 0.384615]\n",
      "[0.85 0.106667 0.38; 0.85 0.106667 0.38; 0.85 0.106667 0.38]\n",
      "[0.85 0.1 0.376471; 0.85 0.1 0.376471; 0.85 0.1 0.376471]\n",
      "[0.85 0.0947368 0.373684; 0.85 0.0947368 0.373684; 0.85 0.0947368 0.373684]\n",
      "[0.85 0.0904762 0.371429; 0.85 0.0904762 0.371429; 0.85 0.0904762 0.371429]\n",
      "[0.85 0.0869565 0.369565; 0.85 0.0869565 0.369565; 0.85 0.0869565 0.369565]\n",
      "[0.85 0.084 0.368; 0.85 0.084 0.368; 0.85 0.084 0.368]\n",
      "[0.85 0.0814815 0.366667; 0.85 0.0814815 0.366667; 0.85 0.0814815 0.366667]\n",
      "[0.85 0.0793103 0.365517; 0.85 0.0793103 0.365517; 0.85 0.0793103 0.365517]\n",
      "[0.85 0.0774194 0.364516; 0.85 0.0774194 0.364516; 0.85 0.0774194 0.364516]\n",
      "[0.85 0.0757576 0.363636; 0.85 0.0757576 0.363636; 0.85 0.0757576 0.363636]\n",
      "[0.85 0.0742857 0.362857; 0.85 0.0742857 0.362857; 0.85 0.0742857 0.362857]\n",
      "[0.85 0.072973 0.362162; 0.85 0.072973 0.362162; 0.85 0.072973 0.362162]\n",
      "[0.85 0.0717949 0.361538; 0.85 0.0717949 0.361538; 0.85 0.0717949 0.361538]\n"
     ]
    },
    {
     "data": {
      "text/plain": [
       "6-element Array{Int64,1}:\n",
       " 2\n",
       " 2\n",
       " 1\n",
       " 1\n",
       " 3\n",
       " 3"
      ]
     },
     "execution_count": 3,
     "metadata": {},
     "output_type": "execute_result"
    }
   ],
   "source": [
    "b = KMeans(features,3)"
   ]
  },
  {
   "cell_type": "code",
   "execution_count": 67,
   "metadata": {},
   "outputs": [
    {
     "data": {
      "text/plain": [
       "7×3 Array{Float64,2}:\n",
       " 0.412217  0.511553   0.191314\n",
       " 0.343018  0.860371   0.177082\n",
       " 0.409577  0.861475   0.461032\n",
       " 0.675696  0.0190763  0.687961\n",
       " 0.954746  0.984268   0.316622\n",
       " 0.628194  0.0859921  0.92851 \n",
       " 0.117172  0.994771   0.29407 "
      ]
     },
     "execution_count": 67,
     "metadata": {},
     "output_type": "execute_result"
    }
   ],
   "source": [
    "A = rand(7,3)\n"
   ]
  },
  {
   "cell_type": "code",
   "execution_count": 66,
   "metadata": {},
   "outputs": [
    {
     "data": {
      "text/plain": [
       "2×3 Array{Float64,2}:\n",
       " 0.409065  0.128674  0.622274\n",
       " 0.831764  0.485986  0.531988"
      ]
     },
     "execution_count": 66,
     "metadata": {},
     "output_type": "execute_result"
    }
   ],
   "source": [
    "B = rand(2,3)"
   ]
  },
  {
   "cell_type": "code",
   "execution_count": 53,
   "metadata": {},
   "outputs": [
    {
     "ename": "UndefVarError",
     "evalue": "UndefVarError: ind2sub not defined",
     "output_type": "error",
     "traceback": [
      "UndefVarError: ind2sub not defined",
      "",
      "Stacktrace:",
      " [1] (::getfield(Main, Symbol(\"##7#8\")))(::CartesianIndex{2}) at ./In[53]:2",
      " [2] iterate at ./generator.jl:47 [inlined]",
      " [3] _collect(::Array{CartesianIndex{2},2}, ::Base.Generator{Array{CartesianIndex{2},2},getfield(Main, Symbol(\"##7#8\"))}, ::Base.EltypeUnknown, ::Base.HasShape{2}) at ./array.jl:619",
      " [4] collect_similar(::Array{CartesianIndex{2},2}, ::Base.Generator{Array{CartesianIndex{2},2},getfield(Main, Symbol(\"##7#8\"))}) at ./array.jl:548",
      " [5] map(::Function, ::Array{CartesianIndex{2},2}) at ./abstractarray.jl:2018",
      " [6] top-level scope at In[53]:2"
     ]
    }
   ],
   "source": [
    "vals, inds = findmax(C,dims = 1)\n",
    "map(inds->ind2sub(C, inds), inds)"
   ]
  },
  {
   "cell_type": "code",
   "execution_count": 57,
   "metadata": {},
   "outputs": [
    {
     "data": {
      "text/plain": [
       "(0.42783540868606384, 1)"
      ]
     },
     "execution_count": 57,
     "metadata": {},
     "output_type": "execute_result"
    }
   ],
   "source": [
    "val, idx = findmax(view(C,1,:))"
   ]
  },
  {
   "cell_type": "code",
   "execution_count": 63,
   "metadata": {},
   "outputs": [
    {
     "data": {
      "text/plain": [
       "2×2 Array{Int64,2}:\n",
       " 0  0\n",
       " 0  0"
      ]
     },
     "execution_count": 63,
     "metadata": {},
     "output_type": "execute_result"
    }
   ],
   "source": [
    "zeros(Int,2,2)"
   ]
  },
  {
   "cell_type": "code",
   "execution_count": 70,
   "metadata": {},
   "outputs": [
    {
     "name": "stdout",
     "output_type": "stream",
     "text": [
      "\u001b[32m\u001b[1m  Updating\u001b[22m\u001b[39m registry at `~/.julia/registries/General`\n",
      "\u001b[32m\u001b[1m  Updating\u001b[22m\u001b[39m git-repo `https://github.com/JuliaRegistries/General.git`\n",
      "\u001b[2K\u001b[?25h[1mFetching:\u001b[22m\u001b[39m [========================================>]  100.0 %.0 %\u001b[32m\u001b[1m Resolving\u001b[22m\u001b[39m package versions...\n",
      "\u001b[32m\u001b[1m Installed\u001b[22m\u001b[39m TableTraits ───────────────── v0.4.1\n",
      "\u001b[32m\u001b[1m Installed\u001b[22m\u001b[39m WeakRefStrings ────────────── v0.5.8\n",
      "\u001b[32m\u001b[1m Installed\u001b[22m\u001b[39m Tables ────────────────────── v0.1.18\n",
      "\u001b[32m\u001b[1m Installed\u001b[22m\u001b[39m CodecZlib ─────────────────── v0.5.2\n",
      "\u001b[32m\u001b[1m Installed\u001b[22m\u001b[39m DataStreams ───────────────── v0.4.1\n",
      "\u001b[32m\u001b[1m Installed\u001b[22m\u001b[39m TranscodingStreams ────────── v0.9.2\n",
      "\u001b[32m\u001b[1m Installed\u001b[22m\u001b[39m CategoricalArrays ─────────── v0.5.2\n",
      "\u001b[32m\u001b[1m Installed\u001b[22m\u001b[39m DataFrames ────────────────── v0.17.1\n",
      "\u001b[32m\u001b[1m Installed\u001b[22m\u001b[39m IteratorInterfaceExtensions ─ v0.1.1\n",
      "\u001b[32m\u001b[1m  Updating\u001b[22m\u001b[39m `~/.julia/environments/v1.1/Project.toml`\n",
      " \u001b[90m [a93c6f00]\u001b[39m\u001b[92m + DataFrames v0.17.1\u001b[39m\n",
      "\u001b[32m\u001b[1m  Updating\u001b[22m\u001b[39m `~/.julia/environments/v1.1/Manifest.toml`\n",
      " \u001b[90m [324d7699]\u001b[39m\u001b[92m + CategoricalArrays v0.5.2\u001b[39m\n",
      " \u001b[90m [944b1d66]\u001b[39m\u001b[92m + CodecZlib v0.5.2\u001b[39m\n",
      " \u001b[90m [a93c6f00]\u001b[39m\u001b[92m + DataFrames v0.17.1\u001b[39m\n",
      " \u001b[90m [9a8bc11e]\u001b[39m\u001b[92m + DataStreams v0.4.1\u001b[39m\n",
      " \u001b[90m [82899510]\u001b[39m\u001b[92m + IteratorInterfaceExtensions v0.1.1\u001b[39m\n",
      " \u001b[90m [3783bdb8]\u001b[39m\u001b[92m + TableTraits v0.4.1\u001b[39m\n",
      " \u001b[90m [bd369af6]\u001b[39m\u001b[92m + Tables v0.1.18\u001b[39m\n",
      " \u001b[90m [3bb67fe8]\u001b[39m\u001b[92m + TranscodingStreams v0.9.2\u001b[39m\n",
      " \u001b[90m [ea10d353]\u001b[39m\u001b[92m + WeakRefStrings v0.5.8\u001b[39m\n",
      " \u001b[90m [9fa8497b]\u001b[39m\u001b[92m + Future \u001b[39m\n",
      "\u001b[32m\u001b[1m  Building\u001b[22m\u001b[39m CodecZlib → `~/.julia/packages/CodecZlib/9jDi1/deps/build.log`\n"
     ]
    },
    {
     "name": "stderr",
     "output_type": "stream",
     "text": [
      "┌ Info: Precompiling DataFrames [a93c6f00-e57d-5684-b7b6-d8193f3e46c0]\n",
      "└ @ Base loading.jl:1186\n"
     ]
    },
    {
     "ename": "LoadError",
     "evalue": "syntax: invalid identifier name \"?\"",
     "output_type": "error",
     "traceback": [
      "syntax: invalid identifier name \"?\"",
      ""
     ]
    }
   ],
   "source": [
    "import Pkg; Pkg.add(\"DataFrames\")\n",
    "using DataFrames: columns\n"
   ]
  },
  {
   "cell_type": "code",
   "execution_count": 92,
   "metadata": {},
   "outputs": [
    {
     "data": {
      "text/plain": [
       "4×3 Array{Float64,2}:\n",
       " 0.0704771  0.716764   0.772697\n",
       " 0.942944   0.214578   0.941615\n",
       " 0.587527   0.956369   0.110072\n",
       " 0.287083   0.0499432  0.344921"
      ]
     },
     "execution_count": 92,
     "metadata": {},
     "output_type": "execute_result"
    }
   ],
   "source": [
    "xx = rand(4,3)"
   ]
  },
  {
   "cell_type": "code",
   "execution_count": 94,
   "metadata": {},
   "outputs": [
    {
     "data": {
      "text/plain": [
       "1×3 Array{Int64,2}:\n",
       " 1  2  3"
      ]
     },
     "execution_count": 94,
     "metadata": {},
     "output_type": "execute_result"
    }
   ],
   "source": [
    "cluster = [1 2 3]"
   ]
  },
  {
   "cell_type": "code",
   "execution_count": 95,
   "metadata": {
    "scrolled": true
   },
   "outputs": [
    {
     "data": {
      "text/plain": [
       "4×3 Array{Float64,2}:\n",
       " 0.864013    1.6467   4.96088\n",
       " 0.00325534  3.18773  4.23695\n",
       " 0.170134    1.08917  8.35168\n",
       " 0.50825     3.80272  7.04945"
      ]
     },
     "execution_count": 95,
     "metadata": {},
     "output_type": "execute_result"
    }
   ],
   "source": [
    "res = (xx.-aa).^2"
   ]
  },
  {
   "cell_type": "code",
   "execution_count": 98,
   "metadata": {},
   "outputs": [
    {
     "data": {
      "text/plain": [
       "4×1 Array{Float64,2}:\n",
       "  7.471586224608187\n",
       "  7.427938727806703\n",
       "  9.61098354990382 \n",
       " 11.360417329188692"
      ]
     },
     "execution_count": 98,
     "metadata": {},
     "output_type": "execute_result"
    }
   ],
   "source": [
    "onek = sum(res,dims = 2)"
   ]
  },
  {
   "cell_type": "code",
   "execution_count": 115,
   "metadata": {},
   "outputs": [
    {
     "data": {
      "text/plain": [
       "4×2 Array{Float64,2}:\n",
       " 0.0  0.0\n",
       " 0.0  0.0\n",
       " 0.0  0.0\n",
       " 0.0  0.0"
      ]
     },
     "execution_count": 115,
     "metadata": {},
     "output_type": "execute_result"
    }
   ],
   "source": [
    "currentDistances = zeros(4,2)"
   ]
  },
  {
   "cell_type": "code",
   "execution_count": 116,
   "metadata": {},
   "outputs": [
    {
     "data": {
      "text/plain": [
       "4×2 Array{Float64,2}:\n",
       "  7.47159  0.0\n",
       "  7.42794  0.0\n",
       "  9.61098  0.0\n",
       " 11.3604   0.0"
      ]
     },
     "execution_count": 116,
     "metadata": {},
     "output_type": "execute_result"
    }
   ],
   "source": [
    "currentDistances[:,1] = onek\n",
    "currentDistances"
   ]
  },
  {
   "cell_type": "code",
   "execution_count": 119,
   "metadata": {},
   "outputs": [
    {
     "data": {
      "text/plain": [
       "([0.0; 0.0; 0.0; 0.0], CartesianIndex{2}[CartesianIndex(1, 2); CartesianIndex(2, 2); CartesianIndex(3, 2); CartesianIndex(4, 2)])"
      ]
     },
     "execution_count": 119,
     "metadata": {},
     "output_type": "execute_result"
    }
   ],
   "source": [
    "findmin(currentDistances,dims = 2)"
   ]
  },
  {
   "cell_type": "code",
   "execution_count": 136,
   "metadata": {},
   "outputs": [
    {
     "data": {
      "text/plain": [
       "4×2 Array{Float64,2}:\n",
       " 0.0  0.0\n",
       " 0.0  0.0\n",
       " 0.0  0.0\n",
       " 0.0  0.0"
      ]
     },
     "execution_count": 136,
     "metadata": {},
     "output_type": "execute_result"
    }
   ],
   "source": [
    "A = rand(4,3)\n",
    "N = 2\n",
    "numPoints, numFeatures = size(A)\n",
    "assignments = zeros(Int,numPoints)\n",
    "centroids  = rand(numFeatures,N)\n",
    "newAssignments = ones(Int,numPoints)\n",
    "currentDistances = zeros(numPoints,N)"
   ]
  },
  {
   "cell_type": "code",
   "execution_count": 137,
   "metadata": {},
   "outputs": [
    {
     "data": {
      "text/plain": [
       "4×3 Array{Float64,2}:\n",
       " 0.799708  0.758403  0.523379\n",
       " 0.89389   0.163839  0.550673\n",
       " 0.376039  0.997181  0.566918\n",
       " 0.228353  0.077301  0.595381"
      ]
     },
     "execution_count": 137,
     "metadata": {},
     "output_type": "execute_result"
    }
   ],
   "source": [
    "features"
   ]
  },
  {
   "cell_type": "code",
   "execution_count": 140,
   "metadata": {},
   "outputs": [
    {
     "data": {
      "text/plain": [
       "3-element Array{Float64,1}:\n",
       " 0.4415547568743463 \n",
       " 0.03092332242429152\n",
       " 0.37730836818538327"
      ]
     },
     "execution_count": 140,
     "metadata": {},
     "output_type": "execute_result"
    }
   ],
   "source": [
    "centroids[:,1]"
   ]
  },
  {
   "cell_type": "code",
   "execution_count": 141,
   "metadata": {},
   "outputs": [],
   "source": [
    "# compute distances and assign point to centroid\n",
    "for j = 1:N\n",
    "    currentClusterDistances = sum((features .- centroids[:,j]').^2, dims = 2)\n",
    "    currentDistances[:,j] = currentClusterDistances\n",
    "end"
   ]
  }
 ],
 "metadata": {
  "kernelspec": {
   "display_name": "Julia 1.1.0",
   "language": "julia",
   "name": "julia-1.1"
  },
  "language_info": {
   "file_extension": ".jl",
   "mimetype": "application/julia",
   "name": "julia",
   "version": "1.1.0"
  }
 },
 "nbformat": 4,
 "nbformat_minor": 2
}
