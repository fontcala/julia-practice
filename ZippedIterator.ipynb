{
 "cells": [
  {
   "cell_type": "code",
   "execution_count": 1,
   "metadata": {},
   "outputs": [
    {
     "name": "stdout",
     "output_type": "stream",
     "text": [
      "\u001b[32m\u001b[1m  Updating\u001b[22m\u001b[39m registry at `~/.julia/registries/General`\n",
      "\u001b[32m\u001b[1m  Updating\u001b[22m\u001b[39m git-repo `https://github.com/JuliaRegistries/General.git`\n",
      "\u001b[2K\u001b[?25h[1mFetching:\u001b[22m\u001b[39m [========================================>]  100.0 %.0 %\u001b[32m\u001b[1m Resolving\u001b[22m\u001b[39m package versions...\n",
      "\u001b[32m\u001b[1m  Updating\u001b[22m\u001b[39m `~/.julia/environments/v1.1/Project.toml`\n",
      "\u001b[90m [no changes]\u001b[39m\n",
      "\u001b[32m\u001b[1m  Updating\u001b[22m\u001b[39m `~/.julia/environments/v1.1/Manifest.toml`\n",
      "\u001b[90m [no changes]\u001b[39m\n"
     ]
    }
   ],
   "source": [
    "using Pkg\n",
    "Pkg.add(\"IteratorInterfaceExtensions\")\n",
    "using IteratorInterfaceExtensions"
   ]
  },
  {
   "cell_type": "code",
   "execution_count": 2,
   "metadata": {},
   "outputs": [],
   "source": [
    "import Base: iterate, getindex, size, length"
   ]
  },
  {
   "cell_type": "code",
   "execution_count": 3,
   "metadata": {},
   "outputs": [
    {
     "data": {
      "text/plain": [
       "ZipIterable"
      ]
     },
     "execution_count": 3,
     "metadata": {},
     "output_type": "execute_result"
    }
   ],
   "source": [
    "# ZipIterable Type construction\n",
    "#  - Both inputs need to be non-empty and iterable (see IteratorInterfaceExtensions)\n",
    "#  - Both inputs do not need to be AbstractArrays and can have different types\n",
    "struct ZipIterable{T1,T2}\n",
    "    first     :: T1\n",
    "    second    :: T2\n",
    "    # inner constructor\n",
    "    ZipIterable{T1,T2}(first,second) where {T1,T2} = (IteratorInterfaceExtensions.isiterable(first) && IteratorInterfaceExtensions.isiterable(second)) ? new{T1,T2}(first, second) : error(\"ZipIterable: Iterable members only\") \n",
    "end\n",
    "# friendlier constructor\n",
    "ZipIterable(first::T1,second::T2) where {T1,T2} = ZipIterable{T1,T2}(first, second)"
   ]
  },
  {
   "cell_type": "code",
   "execution_count": 4,
   "metadata": {},
   "outputs": [
    {
     "data": {
      "text/plain": [
       "iterate (generic function with 207 methods)"
      ]
     },
     "execution_count": 4,
     "metadata": {},
     "output_type": "execute_result"
    }
   ],
   "source": [
    "function iterate(z::ZipIterable{T}) where {T}\n",
    "    if(isempty(z.first))\n",
    "        return nothing\n",
    "    else\n",
    "    item,contInd = iterate(z.first)\n",
    "    (item,(contInd,1))\n",
    "    end\n",
    "    \n",
    "end\n",
    "\n",
    "function iterate(z::ZipIterable{T},state) where {T}\n",
    "    if  (state[2] == 1)\n",
    "        qTup = iterate(z.first,(state[1]))\n",
    "        if qTup == nothing\n",
    "            if(isempty(z.second))\n",
    "                return nothing\n",
    "            else\n",
    "            item,contInd = iterate(z.second)\n",
    "            return (item,(contInd,2))\n",
    "            end\n",
    "        else\n",
    "            return (qTup[1],(qTup[2],1))\n",
    "        end\n",
    "    else\n",
    "        qTup = iterate(z.second,(state[1]))\n",
    "        if qTup == nothing\n",
    "            return nothing\n",
    "        else\n",
    "            return (qTup[1],(qTup[2],2))\n",
    "        end\n",
    "    end\n",
    "end"
   ]
  },
  {
   "cell_type": "markdown",
   "metadata": {},
   "source": [
    "# Demo:#"
   ]
  },
  {
   "cell_type": "code",
   "execution_count": 8,
   "metadata": {},
   "outputs": [
    {
     "data": {
      "text/plain": [
       "ZipIterable{ZipIterable{Array{Int64,1},Array{Int64,1}},ZipIterable{Array{Float64,3},UnitRange{Int64}}}(ZipIterable{Array{Int64,1},Array{Int64,1}}([5, 6, 7], [10, 11, 12, 13]), ZipIterable{Array{Float64,3},UnitRange{Int64}}([0.173421 0.783099; 0.245782 0.920528]\n",
       "\n",
       "[0.0389713 0.445583; 0.598243 0.783104], 10:16))"
      ]
     },
     "execution_count": 8,
     "metadata": {},
     "output_type": "execute_result"
    }
   ],
   "source": [
    "# Can be constructed with any iterable types (does not even have to be AbstractArray, only iterable)\n",
    "z1 = ZipIterable([5,6,7],[10,11,12,13])\n",
    "z2 = ZipIterable(5:7,10:16)\n",
    "z3 = ZipIterable(rand(2,2,2),10:16)\n",
    "z4 = ZipIterable(z1,z3)"
   ]
  },
  {
   "cell_type": "code",
   "execution_count": 9,
   "metadata": {},
   "outputs": [
    {
     "name": "stdout",
     "output_type": "stream",
     "text": [
      "5\n",
      "6\n",
      "7\n",
      "10\n",
      "11\n",
      "12\n",
      "13\n",
      "0.17342115729510343\n",
      "0.2457818863382799\n",
      "0.7830985015730503\n",
      "0.9205279550759919\n",
      "0.03897132860263275\n",
      "0.5982431310626704\n",
      "0.4455825987579731\n",
      "0.783104292603356\n",
      "10\n",
      "11\n",
      "12\n",
      "13\n",
      "14\n",
      "15\n",
      "16\n"
     ]
    }
   ],
   "source": [
    "for i in z4\n",
    "    println(i)\n",
    "end"
   ]
  },
  {
   "cell_type": "code",
   "execution_count": 7,
   "metadata": {},
   "outputs": [
    {
     "data": {
      "text/plain": [
       "CodeInfo(\n",
       "\u001b[90m1 ──\u001b[39m %1  = (Base.getfield)(z, :first)\u001b[36m::Array{Float64,3}\u001b[39m\n",
       "\u001b[90m│   \u001b[39m %2  = (Base.arraylen)(%1)\u001b[36m::Int64\u001b[39m\n",
       "\u001b[90m│   \u001b[39m %3  = (%2 === 0)\u001b[36m::Bool\u001b[39m\n",
       "\u001b[90m└───\u001b[39m       goto #3 if not %3\n",
       "\u001b[90m2 ──\u001b[39m       return Main.nothing\n",
       "\u001b[90m3 ──\u001b[39m %6  = (Base.getfield)(z, :first)\u001b[36m::Array{Float64,3}\u001b[39m\n",
       "\u001b[90m│   \u001b[39m %7  = (Base.arraylen)(%6)\u001b[36m::Int64\u001b[39m\n",
       "\u001b[90m│   \u001b[39m %8  = (Base.sle_int)(0, %7)\u001b[36m::Bool\u001b[39m\n",
       "\u001b[90m│   \u001b[39m %9  = (Base.bitcast)(UInt64, %7)\u001b[36m::UInt64\u001b[39m\n",
       "\u001b[90m│   \u001b[39m %10 = (Base.ult_int)(0x0000000000000000, %9)\u001b[36m::Bool\u001b[39m\n",
       "\u001b[90m│   \u001b[39m %11 = (Base.and_int)(%8, %10)\u001b[36m::Bool\u001b[39m\n",
       "\u001b[90m└───\u001b[39m       goto #5 if not %11\n",
       "\u001b[90m4 ──\u001b[39m %13 = (Base.arrayref)(false, %6, 1)\u001b[36m::Float64\u001b[39m\n",
       "\u001b[90m│   \u001b[39m %14 = (Core.tuple)(%13, 2)\u001b[36m::Tuple{Float64,Int64}\u001b[39m\n",
       "\u001b[90m└───\u001b[39m       goto #6\n",
       "\u001b[90m5 ──\u001b[39m %16 = Base.nothing\u001b[36m::Nothing\u001b[39m\n",
       "\u001b[90m└───\u001b[39m       goto #6\n",
       "\u001b[90m6 ┄─\u001b[39m %18 = φ (#4 => %13)\u001b[36m::Float64\u001b[39m\n",
       "\u001b[90m│   \u001b[39m %19 = φ (#4 => 2)\u001b[36m::Int64\u001b[39m\n",
       "\u001b[90m│   \u001b[39m %20 = φ (#4 => %14, #5 => %16)\u001b[36m::Union{Nothing, Tuple{Float64,Int64}}\u001b[39m\n",
       "\u001b[90m└───\u001b[39m       goto #7\n",
       "\u001b[90m7 ──\u001b[39m %22 = Base.indexed_iterate\u001b[36m::Const(indexed_iterate, false)\u001b[39m\n",
       "\u001b[90m│   \u001b[39m %23 = (isa)(%20, Tuple{Float64,Int64})\u001b[36m::Bool\u001b[39m\n",
       "\u001b[90m└───\u001b[39m       goto #9 if not %23\n",
       "\u001b[90m8 ──\u001b[39m %25 = (Core.tuple)(%18, 2)\u001b[36m::Tuple{Float64,Int64}\u001b[39m\n",
       "\u001b[90m└───\u001b[39m       goto #12\n",
       "\u001b[90m9 ──\u001b[39m %27 = (isa)(%20, Nothing)\u001b[36m::Bool\u001b[39m\n",
       "\u001b[90m└───\u001b[39m       goto #11 if not %27\n",
       "\u001b[90m10 ─\u001b[39m %29 = π (%20, \u001b[36mNothing\u001b[39m)\n",
       "\u001b[90m│   \u001b[39m %30 = invoke %22(%29::Nothing, 1::Int64)\u001b[36m::PartialTuple(Tuple{Float64,Int64}, Any[Float64, Const(2, false)])\u001b[39m\n",
       "\u001b[90m└───\u001b[39m       goto #12\n",
       "\u001b[90m11 ─\u001b[39m       (Core.throw)(ErrorException(\"fatal error in type inference (type bound)\"))\u001b[90m::Union{}\u001b[39m\n",
       "\u001b[90m└───\u001b[39m       $(Expr(:unreachable))\u001b[90m::Union{}\u001b[39m\n",
       "\u001b[90m12 ┄\u001b[39m %34 = φ (#8 => %25, #10 => %30)\u001b[36m::PartialTuple(Tuple{Float64,Int64}, Any[Float64, Const(2, false)])\u001b[39m\n",
       "\u001b[90m│   \u001b[39m %35 = (Core.getfield)(%34, 1)\u001b[36m::Float64\u001b[39m\n",
       "\u001b[90m│   \u001b[39m %36 = Base.indexed_iterate\u001b[36m::Const(indexed_iterate, false)\u001b[39m\n",
       "\u001b[90m│   \u001b[39m %37 = (isa)(%20, Tuple{Float64,Int64})\u001b[36m::Bool\u001b[39m\n",
       "\u001b[90m└───\u001b[39m       goto #14 if not %37\n",
       "\u001b[90m13 ─\u001b[39m %39 = (Core.tuple)(%19, 3)\u001b[36m::Tuple{Int64,Int64}\u001b[39m\n",
       "\u001b[90m└───\u001b[39m       goto #17\n",
       "\u001b[90m14 ─\u001b[39m %41 = (isa)(%20, Nothing)\u001b[36m::Bool\u001b[39m\n",
       "\u001b[90m└───\u001b[39m       goto #16 if not %41\n",
       "\u001b[90m15 ─\u001b[39m %43 = π (%20, \u001b[36mNothing\u001b[39m)\n",
       "\u001b[90m│   \u001b[39m %44 = invoke %36(%43::Nothing, 2::Int64, 2::Int64)\u001b[36m::PartialTuple(Tuple{Int64,Int64}, Any[Int64, Const(3, false)])\u001b[39m\n",
       "\u001b[90m└───\u001b[39m       goto #17\n",
       "\u001b[90m16 ─\u001b[39m       (Core.throw)(ErrorException(\"fatal error in type inference (type bound)\"))\u001b[90m::Union{}\u001b[39m\n",
       "\u001b[90m└───\u001b[39m       $(Expr(:unreachable))\u001b[90m::Union{}\u001b[39m\n",
       "\u001b[90m17 ┄\u001b[39m %48 = φ (#13 => %39, #15 => %44)\u001b[36m::PartialTuple(Tuple{Int64,Int64}, Any[Int64, Const(3, false)])\u001b[39m\n",
       "\u001b[90m│   \u001b[39m %49 = (Core.getfield)(%48, 1)\u001b[36m::Int64\u001b[39m\n",
       "\u001b[90m│   \u001b[39m %50 = (Core.tuple)(%49, 1)\u001b[36m::PartialTuple(Tuple{Int64,Int64}, Any[Int64, Const(1, false)])\u001b[39m\n",
       "\u001b[90m│   \u001b[39m %51 = (Core.tuple)(%35, %50)\u001b[36m::PartialTuple(Tuple{Float64,Tuple{Int64,Int64}}, Any[Float64, PartialTuple(Tuple{Int64,Int64}, Any[Int64, Const(1, false)])])\u001b[39m\n",
       "\u001b[90m└───\u001b[39m       return %51\n",
       ") => Union{Nothing, Tuple{Float64,Tuple{Int64,Int64}}}"
      ]
     },
     "execution_count": 7,
     "metadata": {},
     "output_type": "execute_result"
    }
   ],
   "source": [
    "@code_typed iterate(z3)"
   ]
  },
  {
   "cell_type": "markdown",
   "metadata": {},
   "source": [
    "# random try stuff section:#"
   ]
  },
  {
   "cell_type": "code",
   "execution_count": 31,
   "metadata": {
    "scrolled": true
   },
   "outputs": [
    {
     "name": "stdout",
     "output_type": "stream",
     "text": [
      "(5, 2)\n",
      "(6, 3)\n",
      "(7, 4)\n",
      "(8, 5)\n",
      "(9, 6)\n",
      "(10, 7)\n"
     ]
    }
   ],
   "source": [
    "#ac = 5:10\n",
    "ac = [5 6 7 8 9 10]\n",
    "next = iterate(ac)\n",
    "while next !== nothing\n",
    "    println(next)\n",
    "    (i, state) = next\n",
    "    # body\n",
    "    next = iterate(ac, state)\n",
    "    \n",
    "end"
   ]
  },
  {
   "cell_type": "code",
   "execution_count": null,
   "metadata": {},
   "outputs": [],
   "source": []
  },
  {
   "cell_type": "code",
   "execution_count": 5,
   "metadata": {},
   "outputs": [
    {
     "name": "stdout",
     "output_type": "stream",
     "text": [
      "(\"aa\", (2, 1))\n",
      "(\"bb\", (3, 1))\n"
     ]
    }
   ],
   "source": [
    "zz = 10:13\n",
    "a = [\"aa\" \"bb\" \"cc\"]\n",
    "item,ind = iterate(a)\n",
    "q1 = (item,(ind,1))\n",
    "println(q1)\n",
    "item, ind = iterate(a,q[2][1])\n",
    "q2 = (item,(ind,1))\n",
    "println(q2)"
   ]
  },
  {
   "cell_type": "code",
   "execution_count": 12,
   "metadata": {},
   "outputs": [
    {
     "data": {
      "text/plain": [
       "CodeInfo(\n",
       "\u001b[90m1 ─\u001b[39m %1 = (Base.add_int)(x, y)\u001b[36m::Int64\u001b[39m\n",
       "\u001b[90m└──\u001b[39m      return %1\n",
       ") => Int64"
      ]
     },
     "execution_count": 12,
     "metadata": {},
     "output_type": "execute_result"
    }
   ],
   "source": []
  },
  {
   "cell_type": "code",
   "execution_count": 15,
   "metadata": {},
   "outputs": [
    {
     "data": {
      "text/plain": [
       "Dict{String,Any}"
      ]
     },
     "execution_count": 15,
     "metadata": {},
     "output_type": "execute_result"
    }
   ],
   "source": [
    "aa = Dict(\"item\" => 1 , \"cont\" => (3,2))\n",
    "typeof(aa)"
   ]
  },
  {
   "cell_type": "code",
   "execution_count": 16,
   "metadata": {},
   "outputs": [
    {
     "data": {
      "text/plain": [
       "(3, 2)"
      ]
     },
     "execution_count": 16,
     "metadata": {},
     "output_type": "execute_result"
    }
   ],
   "source": [
    "aa[\"cont\"]"
   ]
  },
  {
   "cell_type": "code",
   "execution_count": null,
   "metadata": {},
   "outputs": [],
   "source": [
    "index, container =  getindexTuple(z,state)\n",
    "        if (container == 1)\n",
    "            iterate(z.first,state)\n",
    "            #println((index, container))\n",
    "        else\n",
    "            iterate(z.second,state)\n",
    "            #println((index, container))\n",
    "        end\n",
    "    end"
   ]
  },
  {
   "cell_type": "code",
   "execution_count": 23,
   "metadata": {},
   "outputs": [
    {
     "data": {
      "text/plain": [
       "iterate (generic function with 208 methods)"
      ]
     },
     "execution_count": 23,
     "metadata": {},
     "output_type": "execute_result"
    }
   ],
   "source": [
    "function getindexTuple(z::ZipIterable, i::Int)\n",
    "    if (i <= 0) || (i > length(z))\n",
    "        throw(BoundsError())\n",
    "    elseif(i > length(z.first))\n",
    "        # second container\n",
    "        (i - length(z.first), 2)\n",
    "    else\n",
    "        # first container \n",
    "        (i,1)    \n",
    "    end\n",
    "end\n",
    "\n",
    "length(z::ZipIterable) = length(z.second) + length(z.first);\n",
    "size(z::ZipIterable) = (length(z),) # what if I pass a matrix and a vector?\n",
    "# The problem, the state of the first and the whole data structure match but the state of the second and the whole datasructure dont match \n",
    "function iterate(z::ZipIterable{T}) where {T}\n",
    "    q = iterate(z.first)\n",
    "end\n",
    "function iterate(z::ZipIterable{T},state) where {T}\n",
    "    if (state > length(z)) \n",
    "        nothing\n",
    "    else   \n",
    "        q = iterate(z.first,state)\n",
    "    end\n",
    "    if q == nothing\n",
    "        q = iterate(z.second)\n",
    "    end\n",
    "end"
   ]
  }
 ],
 "metadata": {
  "kernelspec": {
   "display_name": "Julia 1.1.0",
   "language": "julia",
   "name": "julia-1.1"
  },
  "language_info": {
   "file_extension": ".jl",
   "mimetype": "application/julia",
   "name": "julia",
   "version": "1.1.0"
  }
 },
 "nbformat": 4,
 "nbformat_minor": 2
}
